
{
 "cells": [
  {
   "cell_type": "markdown",
   "metadata": {},
   "source": [
    "# Forecasting Total Orders using Prophet"
   ]
  },
  {
   "cell_type": "code",
   "execution_count": null,
   "metadata": {},
   "outputs": [],
   "source": [
    "import pandas as pd\n",
    "from prophet import Prophet\n",
    "import matplotlib.pyplot as plt\n",
    "\n",
    "# Load data\n",
    "df = pd.read_csv('../data/orders.csv')\n",
    "model = Prophet()\n",
    "model.fit(df)\n",
    "\n",
    "# Future dataframe\n",
    "future = model.make_future_dataframe(periods=30)\n",
    "forecast = model.predict(future)\n",
    "\n",
    "# Save forecast\n",
    "forecast[['ds', 'yhat', 'yhat_lower', 'yhat_upper']].to_csv('../data/forecast_output.csv', index=False)\n",
    "\n",
    "# Plot\n",
    "fig = model.plot(forecast)\n",
    "plt.title('Forecast of Total Orders')\n",
    "plt.show()"
   ]
  }
 ],
 "metadata": {
  "kernelspec": {
   "display_name": "Python 3",
   "language": "python",
   "name": "python3"
  },
  "language_info": {
   "name": "python",
   "version": "3.10"
  }
 },
 "nbformat": 4,
 "nbformat_minor": 5
}
